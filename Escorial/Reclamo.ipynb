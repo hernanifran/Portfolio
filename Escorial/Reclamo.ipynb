{
 "cells": [
  {
   "cell_type": "code",
   "execution_count": 1,
   "metadata": {},
   "outputs": [],
   "source": [
    "import numpy as np\n",
    "import pandas as pd\n",
    "from sklearn.feature_extraction.text import TfidfVectorizer\n",
    "from sklearn.model_selection import cross_val_score, train_test_split\n",
    "from sklearn.pipeline import Pipeline\n",
    "from sklearn.svm import SVC\n",
    "from sklearn.preprocessing import LabelEncoder\n",
    "import nltk\n",
    "from nltk.corpus import stopwords\n",
    "from nltk.stem import SnowballStemmer\n",
    "from sklearn.metrics import classification_report\n",
    "from sklearn.metrics import accuracy_score\n",
    "from gensim.models import KeyedVectors\n",
    "from sklearn.model_selection import StratifiedKFold\n",
    "import time"
   ]
  },
  {
   "cell_type": "code",
   "execution_count": 3,
   "metadata": {},
   "outputs": [],
   "source": [
    "\n",
    "df = pd.read_excel('C:/Users/Hernán Ifrán/Downloads/RECLAMOSFINAL.xlsx')\n",
    "df.dropna(subset=['problema_n', 'obsitem'], inplace=True)"
   ]
  },
  {
   "cell_type": "code",
   "execution_count": 4,
   "metadata": {},
   "outputs": [
    {
     "name": "stderr",
     "output_type": "stream",
     "text": [
      "C:\\Users\\Hernán Ifrán\\AppData\\Local\\Temp\\ipykernel_18256\\400429262.py:4: FutureWarning: The default value of regex will change from True to False in a future version.\n",
      "  df['problema_n'] = df['problema_n'].str.replace('J - Defectos estéticos - Modelos Ac.  inoxidable', 'I - Defectos estéticos')\n"
     ]
    }
   ],
   "source": [
    "\n",
    "df['problema_n'] = df['problema_n'].str.replace('K - Fallas en encendido electrónico y/o luz de horno', 'K - Fallas en encendido electrónico')\n",
    "df['problema_n'] = df['problema_n'].str.replace('B - Pérdidas de gas sin/con piezas quemadas', 'B - Pérdidas de gas – sin/con piezas quemadas')\n",
    "df['problema_n'] = df['problema_n'].str.replace('J - Defectos estéticos - Modelos Ac.  inoxidable', 'I - Defectos estéticos')\n",
    "df['problema_n'] = df['problema_n'].str.replace('C1 - Horno No enciende', 'C2 - Horno Mal funcionamiento')\n",
    "df['problema_n'] = df['problema_n'].str.replace('C3 - Horno Se Apaga', 'C2 - Horno Mal funcionamiento')\n",
    "df['problema_n'] = df['problema_n'].str.replace('E - El agua sale con temperatura baja, alta', 'E - El agua sale con temperatura baja / alta')\n",
    "\n",
    "\n",
    "df['problema_n'] = df['problema_n'].str.replace('D4 - Otra Hornalla no enciende', 'D2 - Hornalla Mal funcionamiento')\n",
    "df['problema_n'] = df['problema_n'].str.replace('D6 - Otra Hornalla Se Apaga', 'D2 - Hornalla Mal funcionamiento')\n",
    "df['problema_n'] = df['problema_n'].str.replace('D3 - Hornalla Se Apaga', 'D2 - Hornalla Mal funcionamiento')\n",
    "df['problema_n'] = df['problema_n'].str.replace('D1 - Hornalla No enciende', 'D2 - Hornalla Mal funcionamiento')\n",
    "df['problema_n'] = df['problema_n'].str.replace('D5 - Otra Hornalla Mal funcionamiento', 'D2 - Hornalla Mal funcionamiento')"
   ]
  },
  {
   "cell_type": "code",
   "execution_count": 5,
   "metadata": {},
   "outputs": [],
   "source": [
    "\n",
    "condicion = ~df['problema_n'].isin(['K - Otro problema no mencionado en opciones anteriores', 'J - Otras piezas en mal estado','E - No se apaga el calefón al cerrar la circulación de agua','L - Falta/Falla accesorios Kit MULTIGAS','Q - Problema no mencionado en opciones anteriores','P - Otras piezas en mal estado','H - Piezas se caen, mal fijadas o mal posicionadas','N - Manija rota','H - Accesorios faltantes','I - Otros defectos','G - Piezas faltantes / mal fijadas','F - No apaga','I - Accesorios cambio de GAS','H - Accesorios faltantes','J - Defectos estéticos','G - Piezas faltantes / mal fijadas','K - Problema no mencionado en opciones anteriores'])\n",
    "df = df[condicion]\n",
    "\n",
    "\n",
    "\n",
    "df['Concaobsitem'] = df['descripcion'].str.cat([df['alias_8_nombre3'], df['obsitem']], sep=' ')\n",
    "df['Concaobsitem'] = df['Concaobsitem'].astype(str)"
   ]
  },
  {
   "cell_type": "code",
   "execution_count": 6,
   "metadata": {},
   "outputs": [],
   "source": [
    "descripciones = df['Concaobsitem'].tolist()\n",
    "etiquetas = df['problema_n'].tolist()\n",
    "label_encoder = LabelEncoder()\n",
    "etiquetas_numericas = label_encoder.fit_transform(etiquetas)"
   ]
  },
  {
   "cell_type": "code",
   "execution_count": 7,
   "metadata": {},
   "outputs": [],
   "source": [
    "\n",
    "stemmer = SnowballStemmer('spanish')\n",
    "stop_words = set(stopwords.words('spanish'))\n",
    "\n",
    "def preprocesar_texto(texto):\n",
    "    palabras = nltk.word_tokenize(texto.lower())\n",
    "    palabras = [stemmer.stem(palabra) for palabra in palabras if palabra.isalpha() and palabra not in stop_words]\n",
    "    return ' '.join(palabras)\n",
    "\n",
    "descripciones_preprocesadas = [preprocesar_texto(desc) for desc in descripciones]"
   ]
  },
  {
   "cell_type": "code",
   "execution_count": 8,
   "metadata": {},
   "outputs": [],
   "source": [
    "\n",
    "X_train, X_test, y_train, y_test = train_test_split(descripciones_preprocesadas, etiquetas_numericas, test_size=0.2, random_state=100201)\n"
   ]
  },
  {
   "cell_type": "code",
   "execution_count": 9,
   "metadata": {},
   "outputs": [
    {
     "name": "stderr",
     "output_type": "stream",
     "text": [
      "C:\\Users\\Hernán Ifrán\\AppData\\Roaming\\Python\\Python310\\site-packages\\sklearn\\model_selection\\_split.py:700: UserWarning: The least populated class in y has only 4 members, which is less than n_splits=5.\n",
      "  warnings.warn(\n"
     ]
    },
    {
     "name": "stdout",
     "output_type": "stream",
     "text": [
      "Accuracy en validación cruzada: 0.7419639658125559\n"
     ]
    }
   ],
   "source": [
    "\n",
    "pipeline = Pipeline([\n",
    "    ('tfidf', TfidfVectorizer(max_features=5000)),  \n",
    "    ('clf', SVC(kernel='linear'))\n",
    "])\n",
    "\n",
    "\n",
    "pipeline.fit(X_train, y_train)\n",
    "scores = cross_val_score(pipeline, X_train, y_train, cv=5)  \n",
    "\n",
    "print(\"Accuracy en validación cruzada:\", scores.mean())"
   ]
  },
  {
   "cell_type": "code",
   "execution_count": 10,
   "metadata": {},
   "outputs": [
    {
     "name": "stdout",
     "output_type": "stream",
     "text": [
      "                                                                                                   precision    recall  f1-score   support\n",
      "\n",
      "                                                                    B - Descargas de electricidad       0.33      0.15      0.21        20\n",
      "                                               B - La llama no enciende al abrir el grifo de agua       0.78      0.97      0.86        33\n",
      "                                                    B - Pérdidas de gas – sin/con piezas quemadas       0.40      0.11      0.17        19\n",
      "                                                          B1 - Pérdidas de gas con piezas dañadas       0.33      0.12      0.18        67\n",
      "                                                          B2 - Pérdidas de gas sin piezas dañadas       0.67      0.71      0.69       195\n",
      "                              C - La llama se apaga luego de algunos minutos de estar funcionando       0.93      0.76      0.84        17\n",
      "                                                                             C - Pérdidas de agua       0.91      0.95      0.93       347\n",
      "                                                                    C2 - Horno Mal funcionamiento       0.81      0.67      0.74       301\n",
      "                                                            D - El agua sale con temperatura baja       1.00      1.00      1.00         2\n",
      "                                                                                  D - No enciende       0.56      0.51      0.53       215\n",
      "                                                                           D - No enciende piloto       0.43      0.28      0.34        57\n",
      "                                                                 D2 - Hornalla Mal funcionamiento       0.71      0.85      0.77       469\n",
      "                                                     E - El agua sale con temperatura baja / alta       0.70      0.82      0.75       382\n",
      "                                                                              E - Piloto se apaga       0.76      0.88      0.81       204\n",
      "                                                         E - Puerta de horno - No cierra / Se cae       0.89      0.96      0.92       487\n",
      "F - No calienta agua Mal funcionamientoQuemador no enciende Quemador se apagaQuemador no se apaga       0.79      0.55      0.65        67\n",
      "                                                                  F - Puerta Parrilla - No cierra       0.57      0.19      0.29        21\n",
      "                                                                              F - Pérdida de agua       1.00      0.50      0.67         6\n",
      "                                                                   G - Perilla no gira / gira mal       0.78      0.62      0.69        95\n",
      "                                                            G - Pérdida de gas SIN piezas dañadas       1.00      1.00      1.00         0\n",
      "                                                            H - Pérdida de gas CON piezas dañadas       1.00      0.00      0.00         1\n",
      "                                                                           I - Defectos estéticos       0.60      0.27      0.37        11\n",
      "                                                J - Problema no mencionado en opciones anteriores       0.67      0.16      0.26        37\n",
      "                                                              K - Fallas en encendido electrónico       0.66      0.50      0.57        38\n",
      "                                                                             M - Vidrio estallado       0.91      0.83      0.87        36\n",
      "\n",
      "                                                                                        micro avg       0.76      0.76      0.76      3127\n",
      "                                                                                        macro avg       0.73      0.57      0.60      3127\n",
      "                                                                                     weighted avg       0.75      0.76      0.74      3127\n",
      "\n"
     ]
    }
   ],
   "source": [
    "\n",
    "y_pred = pipeline.predict(X_test)\n",
    "report = classification_report(y_test, y_pred, labels=np.unique(etiquetas_numericas), target_names=label_encoder.inverse_transform(np.unique(etiquetas_numericas)), zero_division=1)\n",
    "print(report)\n"
   ]
  },
  {
   "cell_type": "code",
   "execution_count": 12,
   "metadata": {},
   "outputs": [
    {
     "name": "stdout",
     "output_type": "stream",
     "text": [
      "Resultados guardados en: C:/Users/Hernán Ifrán/Downloads/testresultado.txt\n"
     ]
    }
   ],
   "source": [
    "\n",
    "archivo_evaluacion = 'C:/Users/Hernán Ifrán/Downloads/testesco.txt'  \n",
    "with open(archivo_evaluacion, 'r', encoding='latin-1') as file:\n",
    "    lineas = file.readlines()\n",
    "\n",
    "resultados = []\n",
    "\n",
    "for linea in lineas:\n",
    "    problema = linea.strip()\n",
    "    problema_preprocesado = preprocesar_texto(problema)\n",
    "    predicciones = pipeline.predict([problema_preprocesado])\n",
    "    clase_predicha = label_encoder.inverse_transform(predicciones)[0]\n",
    "    resultados.append({\n",
    "        'Problema': problema,\n",
    "        'Etiqueta de Reclamo': clase_predicha\n",
    "    })\n",
    "\n",
    "resultados_df = pd.DataFrame(resultados)\n",
    "\n",
    "archivo_resultado = 'C:/Users/Hernán Ifrán/Downloads/testresultado.txt'\n",
    "resultados_df.to_csv(archivo_resultado, index=False, sep='\\t', encoding='utf-8')\n",
    "\n",
    "print(\"Resultados guardados en:\", archivo_resultado)\n",
    "\n",
    "\n"
   ]
  }
 ],
 "metadata": {
  "kernelspec": {
   "display_name": "Python 3",
   "language": "python",
   "name": "python3"
  },
  "language_info": {
   "codemirror_mode": {
    "name": "ipython",
    "version": 3
   },
   "file_extension": ".py",
   "mimetype": "text/x-python",
   "name": "python",
   "nbconvert_exporter": "python",
   "pygments_lexer": "ipython3",
   "version": "3.10.5"
  }
 },
 "nbformat": 4,
 "nbformat_minor": 2
}
